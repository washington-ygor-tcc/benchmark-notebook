{
 "cells": [
  {
   "cell_type": "code",
   "execution_count": null,
   "id": "20f88774",
   "metadata": {},
   "outputs": [],
   "source": [
    "import nest_asyncio\n",
    "import numpy as np\n",
    "import matplotlib.pyplot as plt\n",
    "\n",
    "nest_asyncio.apply()\n",
    "\n",
    "from benchmark.application import app, helpers\n",
    "\n",
    "r = app.run_benchmark(\n",
    "    helpers.BenchmarkTypes.MESSAGING,\n",
    "    ({\"id\": i} for i in range(100)),\n",
    "    {\n",
    "        \"nats\": {\n",
    "            \"host\": \"nats://benchmark_project-broker-1\",      \n",
    "        }\n",
    "    }\n",
    ")\n",
    "r2 = app.run_benchmark(\n",
    "    helpers.BenchmarkTypes.API,\n",
    "    ({\"id\": i} for i in range(100)),\n",
    "    {\n",
    "        \"api\": {\n",
    "            \"host\": \"http://benchmark_project-api-1\",\n",
    "        }\n",
    "    }\n",
    ")\n",
    "\n"
   ]
  },
  {
   "cell_type": "code",
   "execution_count": null,
   "id": "d8a90ece",
   "metadata": {},
   "outputs": [],
   "source": [
    "def plot(requests):\n",
    "    times = sorted(requests, key=lambda rq: rq.start)\n",
    "    \n",
    "    plt.plot([t.start for t in times],[t.end - t.start for t in times])\n",
    "    plt.show()\n",
    "\n",
    "plot(r)\n",
    "plot(r2)"
   ]
  },
  {
   "cell_type": "code",
   "execution_count": null,
   "id": "3f6fc61a",
   "metadata": {},
   "outputs": [],
   "source": []
  }
 ],
 "metadata": {
  "kernelspec": {
   "display_name": "Python 3 (ipykernel)",
   "language": "python",
   "name": "python3"
  },
  "language_info": {
   "codemirror_mode": {
    "name": "ipython",
    "version": 3
   },
   "file_extension": ".py",
   "mimetype": "text/x-python",
   "name": "python",
   "nbconvert_exporter": "python",
   "pygments_lexer": "ipython3",
   "version": "3.10.8"
  },
  "vscode": {
   "interpreter": {
    "hash": "aee8b7b246df8f9039afb4144a1f6fd8d2ca17a180786b69acc140d282b71a49"
   }
  }
 },
 "nbformat": 4,
 "nbformat_minor": 5
}
